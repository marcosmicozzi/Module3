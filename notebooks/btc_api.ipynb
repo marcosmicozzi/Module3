{
 "cells": [
  {
   "cell_type": "markdown",
   "metadata": {},
   "source": [
    "# Import"
   ]
  },
  {
   "cell_type": "code",
   "execution_count": 6,
   "metadata": {},
   "outputs": [],
   "source": [
    "import requests\n",
    "import pandas as pd\n",
    "\n",
    "from dotenv import load_dotenv\n",
    "import os\n"
   ]
  },
  {
   "cell_type": "markdown",
   "metadata": {},
   "source": [
    "# Load env"
   ]
  },
  {
   "cell_type": "code",
   "execution_count": 7,
   "metadata": {},
   "outputs": [],
   "source": [
    "load_dotenv()\n",
    "api_key = os.getenv(\"API_KEY\")"
   ]
  },
  {
   "cell_type": "markdown",
   "metadata": {},
   "source": [
    "# API"
   ]
  },
  {
   "cell_type": "markdown",
   "metadata": {},
   "source": [
    "### Json"
   ]
  },
  {
   "cell_type": "code",
   "execution_count": 8,
   "metadata": {},
   "outputs": [
    {
     "name": "stdout",
     "output_type": "stream",
     "text": [
      "200\n",
      "2025-10-10 {'1. open': '121714.51000000', '2. high': '121934.36000000', '3. low': '121643.85000000', '4. close': '121879.24000000', '5. volume': '73.55813312'}\n",
      "2025-10-09 {'1. open': '123343.24000000', '2. high': '123822.08000000', '3. low': '119713.65000000', '4. close': '121714.51000000', '5. volume': '6980.15210285'}\n",
      "2025-10-08 {'1. open': '121393.96000000', '2. high': '124254.31000000', '3. low': '121090.06000000', '4. close': '123343.25000000', '5. volume': '6727.94848453'}\n",
      "2025-10-07 {'1. open': '124723.57000000', '2. high': '125226.34000000', '3. low': '120636.00000000', '4. close': '121393.95000000', '5. volume': '8699.84065383'}\n",
      "2025-10-06 {'1. open': '123520.80000000', '2. high': '126296.00000000', '3. low': '123115.77000000', '4. close': '124720.09000000', '5. volume': '9135.30864520'}\n"
     ]
    }
   ],
   "source": [
    "url = f\"https://www.alphavantage.co/query?function=DIGITAL_CURRENCY_DAILY&symbol=BTC&market=USD&apikey={api_key}\"\n",
    "\n",
    "response = requests.get(url)\n",
    "print(response.status_code) #returns a code number\n",
    "# print(response.ok) #returns a boolean (True / False)\n",
    "data = response.json()\n",
    "time_series = data[\"Time Series (Digital Currency Daily)\"]  # <-- this is the main data\n",
    "\n",
    "\n",
    "for date, values in list(time_series.items())[:5]:\n",
    "    print(date, values)\n"
   ]
  },
  {
   "cell_type": "markdown",
   "metadata": {},
   "source": [
    "### Creating DF"
   ]
  },
  {
   "cell_type": "code",
   "execution_count": 9,
   "metadata": {},
   "outputs": [
    {
     "name": "stdout",
     "output_type": "stream",
     "text": [
      "        date      open      high       low     close  volume\n",
      "0 2025-10-10 121714.51 121934.36 121643.85 121879.24   73.56\n",
      "1 2025-10-09 123343.24 123822.08 119713.65 121714.51 6980.15\n",
      "2 2025-10-08 121393.96 124254.31 121090.06 123343.25 6727.95\n",
      "3 2025-10-07 124723.57 125226.34 120636.00 121393.95 8699.84\n",
      "4 2025-10-06 123520.80 126296.00 123115.77 124720.09 9135.31\n"
     ]
    }
   ],
   "source": [
    "dates = []\n",
    "opens = []\n",
    "highs = []\n",
    "lows = []\n",
    "closes = []\n",
    "volumes = []\n",
    "\n",
    "for category, values in time_series.items():\n",
    "    open_price = values['1. open']\n",
    "    high_price = values['2. high']\n",
    "    low_price = values['3. low']\n",
    "    close_price = values['4. close']\n",
    "    volume = values['5. volume']\n",
    "    dates.append(category)\n",
    "    opens.append(float(open_price))\n",
    "    highs.append(float(high_price))\n",
    "    lows.append(float(low_price))\n",
    "    closes.append(float(close_price))\n",
    "    volumes.append(float(volume))\n",
    "\n",
    "df_api = pd.DataFrame({\n",
    "    'date': dates,\n",
    "    'open': opens,\n",
    "    'high': highs,\n",
    "    'low': lows,\n",
    "    'close': closes,\n",
    "    'volume': volumes\n",
    "})\n",
    "\n",
    "df_api['date'] = pd.to_datetime(df_api['date'])\n",
    "df = df_api.sort_values('date', ascending=False).reset_index(drop=True)\n",
    "pd.options.display.float_format = '{:.2f}'.format # 2 decimals. \n",
    "\n",
    "print(df.head())\n",
    "\n",
    "df.to_csv(\"/Users/kimberleybrown/Desktop/coding_all/Code_Academy_Berlin/Module3/data/btc_data.csv\", index=False)"
   ]
  },
  {
   "cell_type": "code",
   "execution_count": null,
   "metadata": {},
   "outputs": [],
   "source": []
  }
 ],
 "metadata": {
  "kernelspec": {
   "display_name": "MarcosPython10",
   "language": "python",
   "name": "python3"
  },
  "language_info": {
   "codemirror_mode": {
    "name": "ipython",
    "version": 3
   },
   "file_extension": ".py",
   "mimetype": "text/x-python",
   "name": "python",
   "nbconvert_exporter": "python",
   "pygments_lexer": "ipython3",
   "version": "3.10.18"
  }
 },
 "nbformat": 4,
 "nbformat_minor": 2
}
